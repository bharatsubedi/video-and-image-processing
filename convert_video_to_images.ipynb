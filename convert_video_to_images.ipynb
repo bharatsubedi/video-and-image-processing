{
 "cells": [
  {
   "cell_type": "markdown",
   "metadata": {},
   "source": [
    "## Convert video into images in every 1 seconds"
   ]
  },
  {
   "cell_type": "code",
   "execution_count": 31,
   "metadata": {},
   "outputs": [],
   "source": [
    "import cv2 as cv\n",
    "import os\n",
    "from time import time\n",
    "\n",
    "def convert_video_to_image(output_folder,input_folder,file,seconds=1):\n",
    "    file_folder = input_folder+file\n",
    "    file_name =file[:-4] \n",
    "    print('File_name:', file)\n",
    "    if not os.path.isfile(file_folder):\n",
    "        print(\"File not found!\")\n",
    "    #print('file:', file)\n",
    "    # create folder for saving images per videos\n",
    "    folder_name = base=os.path.basename(file) + \"frames\"\n",
    "    folder_path = os.path.join(output_folder,folder_name)\n",
    "    #print(folder_path)\n",
    "    if not os.path.exists(folder_path):\n",
    "        os.mkdir(folder_path)\n",
    "\n",
    "    cap = cv.VideoCapture(input_folder+file)\n",
    "    total_frame = int(cap.get(cv.CAP_PROP_FRAME_COUNT))\n",
    "\n",
    "    # save frame every # seconds\n",
    "    seconds = 1\n",
    "    fps = cap.get(cv.CAP_PROP_FPS) # Gets the frames per second\n",
    "    # calculates number of frames that creates # seconds of video\n",
    "    multiplier = fps * seconds\n",
    "\n",
    "    # Check if video opened successfully\n",
    "    if (cap.isOpened()== False):\n",
    "        print(\"Error opening video stream or file\")\n",
    "\n",
    "    frame_counter = 1\n",
    "    n=1\n",
    "    while frame_counter <= total_frame:\n",
    "        cap.set(cv.CAP_PROP_POS_FRAMES, frame_counter)\n",
    "        ret, frame = cap.read()\n",
    "        file_path = os.path.join(folder_path, str(file_name)+'_'+str(n)+\".jpg\")\n",
    "        #print(file_path)\n",
    "        cv.imwrite(file_path, frame)\n",
    "        frame_counter += multiplier\n",
    "        n=n+1"
   ]
  },
  {
   "cell_type": "code",
   "execution_count": 32,
   "metadata": {},
   "outputs": [
    {
     "name": "stdout",
     "output_type": "stream",
     "text": [
      "13\n",
      "File_name: IMG_7678.MOV\n",
      "File_name: IMG_7679.MOV\n",
      "File_name: IMG_7680.MOV\n",
      "File_name: IMG_7681.MOV\n",
      "File_name: IMG_7682.MOV\n",
      "File_name: IMG_7683.MOV\n",
      "File_name: IMG_7684.MOV\n",
      "File_name: IMG_7686.MOV\n",
      "File_name: IMG_7687.MOV\n",
      "File_name: IMG_7688.MOV\n",
      "File_name: IMG_7689.MOV\n",
      "File_name: IMG_7690.MOV\n",
      "File_name: IMG_7691.MOV\n"
     ]
    }
   ],
   "source": [
    "# path of video saved folder\n",
    "input_folder = 'videos/'\n",
    "output_folder = 'output'\n",
    "if not os.path.exists(output_folder):\n",
    "    os.mkdir(output_folder)\n",
    "video_list = [file for file in os.listdir(input_folder)]\n",
    "print(len(video_list))\n",
    "#print(video_list)\n",
    "# save frame every # seconds\n",
    "# you can change time you want\n",
    "seconds = 1\n",
    "for file in video_list:\n",
    "    convert_video_to_image(output_folder,input_folder,file,seconds)"
   ]
  },
  {
   "cell_type": "markdown",
   "metadata": {},
   "source": [
    "## Convert video to images in every frames not more useful"
   ]
  },
  {
   "cell_type": "code",
   "execution_count": null,
   "metadata": {},
   "outputs": [],
   "source": [
    "import cv2 \n",
    "import os \n",
    "video_name = 'IMG_7678.MOV'\n",
    "# Read the video from specified path \n",
    "cam = cv2.VideoCapture(video_name)\n",
    "  \n",
    "# creating folder for storing images\n",
    "if not os.path.exists('data'): \n",
    "    os.makedirs('data') \n",
    "  \n",
    "# frame \n",
    "currentframe = 0\n",
    "  \n",
    "while(True): \n",
    "    ret,frame = cam.read()  \n",
    "    if ret: \n",
    "        name = './data/frame' + str(currentframe) + '.jpg'\n",
    "        print ('Creating...' + name) \n",
    "        cv2.imwrite(name, frame) \n",
    "        currentframe += 1\n",
    "    else: \n",
    "        break\n",
    "  \n",
    "# Release all space and windows once done \n",
    "cam.release() \n",
    "cv2.destroyAllWindows() "
   ]
  }
 ],
 "metadata": {
  "kernelspec": {
   "display_name": "Python 3",
   "language": "python",
   "name": "python3"
  },
  "language_info": {
   "codemirror_mode": {
    "name": "ipython",
    "version": 3
   },
   "file_extension": ".py",
   "mimetype": "text/x-python",
   "name": "python",
   "nbconvert_exporter": "python",
   "pygments_lexer": "ipython3",
   "version": "3.8.3"
  }
 },
 "nbformat": 4,
 "nbformat_minor": 4
}
